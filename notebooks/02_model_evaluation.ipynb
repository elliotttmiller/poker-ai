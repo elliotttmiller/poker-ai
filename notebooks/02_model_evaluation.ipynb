{
 "cells": [
  {
   "cell_type": "markdown",
   "metadata": {},
   "source": [
    "# PokerMind Model Evaluation\n",
    "\n",
    "This notebook evaluates the performance of individual models within the PokerMind system."
   ]
  },
  {
   "cell_type": "code",
   "execution_count": null,
   "metadata": {},
   "outputs": [],
   "source": [
    "import sys\n",
    "sys.path.append('..')\n",
    "\n",
    "from agent.modules.gto_core import GTOCore\n",
    "from agent.modules.opponent_modeler import OpponentModeler\n",
    "from agent.modules.heuristics import HeuristicsEngine\n",
    "from agent.modules.synthesizer import Synthesizer\n",
    "\n",
    "import numpy as np\n",
    "import matplotlib.pyplot as plt"
   ]
  },
  {
   "cell_type": "markdown",
   "metadata": {},
   "source": [
    "## GTO Core Evaluation\n",
    "\n",
    "Test and evaluate the GTO Core module."
   ]
  },
  {
   "cell_type": "code",
   "execution_count": null,
   "metadata": {},
   "outputs": [],
   "source": [
    "# Initialize GTO Core\n",
    "gto_core = GTOCore()\n",
    "\n",
    "# Test with sample game states\n",
    "sample_game_state = {\n",
    "    'hole_cards': ['As', 'Kh'],\n",
    "    'community_cards': [],\n",
    "    'pot_size': 30,\n",
    "    'our_stack': 1000,\n",
    "    'street': 'preflop',\n",
    "    'valid_actions': [\n",
    "        {'action': 'fold', 'amount': 0},\n",
    "        {'action': 'call', 'amount': 20},\n",
    "        {'action': 'raise', 'amount': {'min': 40, 'max': 1000}}\n",
    "    ]\n",
    "}\n",
    "\n",
    "recommendation = gto_core.get_recommendation(sample_game_state)\n",
    "print(\"GTO Recommendation:\", recommendation)"
   ]
  },
  {
   "cell_type": "markdown",
   "metadata": {},
   "source": [
    "## Opponent Modeler Testing\n",
    "\n",
    "Test opponent profiling capabilities."
   ]
  },
  {
   "cell_type": "code",
   "execution_count": null,
   "metadata": {},
   "outputs": [],
   "source": [
    "# TODO: Implement opponent modeling tests\n",
    "# This will test:\n",
    "# - Player categorization accuracy\n",
    "# - Exploit identification\n",
    "# - Statistics tracking"
   ]
  },
  {
   "cell_type": "markdown",
   "metadata": {},
   "source": [
    "## System Integration Testing\n",
    "\n",
    "Test the full cognitive core integration."
   ]
  },
  {
   "cell_type": "code",
   "execution_count": null,
   "metadata": {},
   "outputs": [],
   "source": [
    "# TODO: Implement integration tests\n",
    "# This will test the full decision-making pipeline"
   ]
  }
 ],
 "metadata": {
  "kernelspec": {
   "display_name": "Python 3",
   "language": "python",
   "name": "python3"
  },
  "language_info": {
   "name": "python",
   "version": "3.10.0"
  }
 },
 "nbformat": 4,
 "nbformat_minor": 4
}