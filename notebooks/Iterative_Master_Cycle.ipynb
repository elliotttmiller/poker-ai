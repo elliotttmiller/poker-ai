{
 "cells": [
  {
   "cell_type": "markdown",
   "metadata": {},
   "source": [
    "# RLCard Superhuman Protocol - Iterative Master Cycle\n",
    "\n",
    "This notebook implements the master control panel for the iterative fine-tuning loop as part of the **RLCard Superhuman Protocol (Pillar 2)**.\n",
    "\n",
    "## Overview\n",
    "This notebook performs one complete cycle of:\n",
    "1. **Cloud Train** - Fine-tune the RLCard CFR model using GPU acceleration\n",
    "2. **Local Test** - Instructions for local evaluation\n",
    "3. **Compare** - Analysis of performance improvements\n",
    "\n",
    "## Requirements\n",
    "- Google Colab Pro (recommended for GPU access)\n",
    "- Google Drive mounted\n",
    "- Repository cloned in Colab environment"
   ]
  },
  {
   "cell_type": "markdown",
   "metadata": {},
   "source": [
    "## Step 1: Environment Setup"
   ]
  },
  {
   "cell_type": "code",
   "execution_count": null,
   "metadata": {},
   "outputs": [],
   "source": [
    "# Mount Google Drive\n",
    "from google.colab import drive\n",
    "drive.mount('/content/drive')\n",
    "\n",
    "import os\n",
    "print(\"✅ Google Drive mounted successfully!\")\n",
    "print(f\"Available space: {os.statvfs('/content/drive').f_bavail * os.statvfs('/content/drive').f_frsize / (1024**3):.1f} GB\")"
   ]
  },
  {
   "cell_type": "code",
   "execution_count": null,
   "metadata": {},
   "outputs": [],
   "source": [
    "# Check GPU availability\n",
    "import torch\n",
    "print(f\"CUDA available: {torch.cuda.is_available()}\")\n",
    "if torch.cuda.is_available():\n",
    "    print(f\"GPU: {torch.cuda.get_device_name(0)}\")\n",
    "    print(f\"Memory: {torch.cuda.get_device_properties(0).total_memory / 1e9:.1f} GB\")\n",
    "else:\n",
    "    print(\"⚠️ No GPU available - training will be slower\")"
   ]
  },
  {
   "cell_type": "markdown",
   "metadata": {},
   "source": [
    "## Step 2: Repository Setup"
   ]
  },
  {
   "cell_type": "code",
   "execution_count": null,
   "metadata": {},
   "outputs": [],
   "source": [
    "# Clone the repository (if not already cloned)\n",
    "import os\n",
    "if not os.path.exists('/content/poker-ai'):\n",
    "    !git clone https://github.com/elliotttmiller/poker-ai.git /content/poker-ai\n",
    "    print(\"✅ Repository cloned successfully\")\n",
    "else:\n",
    "    print(\"✅ Repository already exists\")\n",
    "\n",
    "# Change to repository directory\n",
    "os.chdir('/content/poker-ai')\n",
    "print(f\"Working directory: {os.getcwd()}\")"
   ]
  },
  {
   "cell_type": "code",
   "execution_count": null,
   "metadata": {},
   "outputs": [],
   "source": [
    "# Install requirements\n",
    "!pip install -r requirements.txt\n",
    "print(\"✅ Requirements installed successfully\")"
   ]
  },
  {
   "cell_type": "markdown",
   "metadata": {},
   "source": [
    "## Step 3: Model Preparation\n",
    "\n",
    "Prepare the model directories on Google Drive for the training process."
   ]
  },
  {
   "cell_type": "code",
   "execution_count": null,
   "metadata": {},
   "outputs": [],
   "source": [
    "# Setup Google Drive directories\n",
    "import os\n",
    "from pathlib import Path\n",
    "from datetime import datetime\n",
    "\n",
    "# Define Google Drive paths\n",
    "drive_base = \"/content/drive/MyDrive/poker-ai-models\"\n",
    "input_dir = f\"{drive_base}/input\"\n",
    "output_dir = f\"{drive_base}/output\"\n",
    "timestamp = datetime.now().strftime('%Y%m%d_%H%M%S')\n",
    "cycle_output_dir = f\"{drive_base}/output/cycle_{timestamp}\"\n",
    "\n",
    "# Create directories\n",
    "Path(input_dir).mkdir(parents=True, exist_ok=True)\n",
    "Path(cycle_output_dir).mkdir(parents=True, exist_ok=True)\n",
    "\n",
    "print(f\"Input directory: {input_dir}\")\n",
    "print(f\"Output directory: {cycle_output_dir}\")\n",
    "print(\"✅ Google Drive directories created\")"
   ]
  },
  {
   "cell_type": "code",
   "execution_count": null,
   "metadata": {},
   "outputs": [],
   "source": [
    "# Copy the current best model to input directory\n",
    "# (First time: copy the original RLCard model)\n",
    "import shutil\n",
    "\n",
    "# Check if we have a previous fine-tuned model or use the original\n",
    "local_model_path = \"./models/cfr_pretrained_original\"\n",
    "\n",
    "if not os.path.exists(local_model_path):\n",
    "    # Download the original model first\n",
    "    print(\"Downloading original RLCard CFR model...\")\n",
    "    !python training/verify_pretrained_model.py\n",
    "\n",
    "# Copy model to Google Drive input directory\n",
    "if os.path.exists(local_model_path):\n",
    "    shutil.copytree(local_model_path, f\"{input_dir}/current_model\", dirs_exist_ok=True)\n",
    "    print(f\"✅ Model copied to {input_dir}/current_model\")\n",
    "else:\n",
    "    print(\"⚠️ No model found - creating placeholder\")\n",
    "    Path(f\"{input_dir}/current_model\").mkdir(parents=True, exist_ok=True)\n",
    "    with open(f\"{input_dir}/current_model/model_info.txt\", 'w') as f:\n",
    "        f.write(\"Original RLCard CFR model for fine-tuning\\n\")"
   ]
  },
  {
   "cell_type": "markdown",
   "metadata": {},
   "source": [
    "## Step 4: Execute Training Burst 🚀\n",
    "\n",
    "This is where the magic happens - fine-tuning the RLCard CFR model using cloud GPU acceleration."
   ]
  },
  {
   "cell_type": "code",
   "execution_count": null,
   "metadata": {},
   "outputs": [],
   "source": [
    "# Configure training parameters\n",
    "TRAINING_ITERATIONS = 1000  # Adjust based on your needs\n",
    "LEARNING_RATE = 1e-5       # Low learning rate for fine-tuning\n",
    "\n",
    "print(f\"Training Configuration:\")\n",
    "print(f\"  Iterations: {TRAINING_ITERATIONS:,}\")\n",
    "print(f\"  Learning Rate: {LEARNING_RATE}\")\n",
    "print(f\"  Input: {input_dir}/current_model\")\n",
    "print(f\"  Output: {cycle_output_dir}\")"
   ]
  },
  {
   "cell_type": "code",
   "execution_count": null,
   "metadata": {},
   "outputs": [],
   "source": [
    "# Execute the training burst\n",
    "import subprocess\n",
    "import time\n",
    "\n",
    "start_time = time.time()\n",
    "\n",
    "cmd = [\n",
    "    'python', 'training/run_training_burst.py',\n",
    "    '--model-input-dir', f'{input_dir}/current_model',\n",
    "    '--model-output-dir', cycle_output_dir,\n",
    "    '--num-iterations', str(TRAINING_ITERATIONS),\n",
    "    '--learning-rate', str(LEARNING_RATE)\n",
    "]\n",
    "\n",
    "print(\"🚀 Starting training burst...\")\n",
    "print(f\"Command: {' '.join(cmd)}\")\n",
    "print(\"-\" * 50)\n",
    "\n",
    "try:\n",
    "    result = subprocess.run(cmd, capture_output=True, text=True, timeout=3600)  # 1 hour timeout\n",
    "    \n",
    "    if result.returncode == 0:\n",
    "        training_time = time.time() - start_time\n",
    "        print(f\"\\n✅ Training burst completed successfully!\")\n",
    "        print(f\"Time taken: {training_time:.1f} seconds ({training_time/60:.1f} minutes)\")\n",
    "        print(\"\\nTraining output:\")\n",
    "        print(result.stdout)\n",
    "    else:\n",
    "        print(f\"\\n❌ Training failed with return code {result.returncode}\")\n",
    "        print(\"Error output:\")\n",
    "        print(result.stderr)\n",
    "        \n",
    "except subprocess.TimeoutExpired:\n",
    "    print(\"⏰ Training timed out after 1 hour\")\n",
    "except Exception as e:\n",
    "    print(f\"❌ Training failed with exception: {e}\")"
   ]
  },
  {
   "cell_type": "markdown",
   "metadata": {},
   "source": [
    "## Step 5: Training Results Analysis"
   ]
  },
  {
   "cell_type": "code",
   "execution_count": null,
   "metadata": {},
   "outputs": [],
   "source": [
    "# Analyze training results\n",
    "import json\n",
    "\n",
    "training_report_path = f\"{cycle_output_dir}/final_model/training_report.json\"\n",
    "\n",
    "if os.path.exists(training_report_path):\n",
    "    with open(training_report_path, 'r') as f:\n",
    "        training_stats = json.load(f)\n",
    "    \n",
    "    print(\"📊 TRAINING RESULTS SUMMARY\")\n",
    "    print(\"=\" * 30)\n",
    "    print(f\"Status: {training_stats.get('status', 'Unknown')}\")\n",
    "    print(f\"Iterations completed: {training_stats.get('iterations_completed', 0):,}\")\n",
    "    print(f\"Learning rate: {training_stats.get('learning_rate', 'Unknown')}\")\n",
    "    print(f\"Average payoff: {training_stats.get('avg_payoff', 0):.2f}\")\n",
    "    print(f\"Total hands processed: {training_stats.get('total_hands', 0):,}\")\n",
    "    \n",
    "    if 'start_time' in training_stats and 'end_time' in training_stats:\n",
    "        from datetime import datetime\n",
    "        start = datetime.fromisoformat(training_stats['start_time'])\n",
    "        end = datetime.fromisoformat(training_stats['end_time'])\n",
    "        duration = (end - start).total_seconds()\n",
    "        print(f\"Training duration: {duration:.1f} seconds ({duration/60:.1f} minutes)\")\n",
    "    \n",
    "else:\n",
    "    print(\"⚠️ Training report not found - check training output above\")"
   ]
  },
  {
   "cell_type": "markdown",
   "metadata": {},
   "source": [
    "## Step 6: Instructions for Local Testing 📋\n",
    "\n",
    "**IMPORTANT**: The following steps must be performed on your local machine.\n",
    "\n",
    "### 6.1 Download the Fine-Tuned Model\n",
    "\n",
    "1. **Navigate to your Google Drive**\n",
    "   - Go to Google Drive in your browser\n",
    "   - Find the folder: `poker-ai-models/output/cycle_[timestamp]/final_model/`\n",
    "   - Download the entire `final_model` folder\n",
    "\n",
    "2. **Copy to Local Repository**\n",
    "   ```bash\n",
    "   # On your local machine:\n",
    "   cd /path/to/your/poker-ai\n",
    "   mkdir -p models/fine_tuned_v1\n",
    "   # Copy the downloaded files to models/fine_tuned_v1/\n",
    "   ```\n",
    "\n",
    "### 6.2 Run Local Evaluation\n",
    "\n",
    "Run the standardized evaluation on your local machine:\n",
    "\n",
    "```bash\n",
    "cd /path/to/your/poker-ai\n",
    "python evaluation/run_standard_evaluation.py --model-path models/fine_tuned_v1\n",
    "```\n",
    "\n",
    "This will generate a new evaluation report in the `reports/` directory.\n",
    "\n",
    "### 6.3 Compare Performance\n",
    "\n",
    "Compare the new results with your baseline:\n",
    "\n",
    "1. **Baseline**: `reports/baseline_performance_RLCard.txt`\n",
    "2. **New Results**: `reports/fine_tuned_v1_evaluation_[timestamp].txt`\n",
    "\n",
    "Look for improvements in:\n",
    "- Win rate\n",
    "- Average profit\n",
    "- Average position\n",
    "- Confidence intervals\n"
   ]
  },
  {
   "cell_type": "markdown",
   "metadata": {},
   "source": [
    "## Step 7: Performance Comparison Template 📈\n",
    "\n",
    "Use this template to track your results:"
   ]
  },
  {
   "cell_type": "code",
   "execution_count": null,
   "metadata": {},
   "outputs": [],
   "source": [
    "# Performance tracking template\n",
    "# Fill this in with your local evaluation results\n",
    "\n",
    "performance_comparison = {\n",
    "    \"cycle_timestamp\": timestamp,\n",
    "    \"training_iterations\": TRAINING_ITERATIONS,\n",
    "    \"learning_rate\": LEARNING_RATE,\n",
    "    \n",
    "    \"baseline_performance\": {\n",
    "        \"win_rate\": 0.56,      # From baseline_performance_RLCard.txt\n",
    "        \"avg_profit\": 62.78,   # Fill in your baseline values\n",
    "        \"avg_position\": 1.4,\n",
    "    },\n",
    "    \n",
    "    \"new_performance\": {\n",
    "        \"win_rate\": None,      # Fill in after local evaluation\n",
    "        \"avg_profit\": None,    # Fill in after local evaluation  \n",
    "        \"avg_position\": None,  # Fill in after local evaluation\n",
    "    },\n",
    "    \n",
    "    \"improvement\": {\n",
    "        \"win_rate_delta\": None,     # new_win_rate - baseline_win_rate\n",
    "        \"profit_delta\": None,       # new_profit - baseline_profit\n",
    "        \"position_delta\": None,     # baseline_position - new_position (lower is better)\n",
    "    },\n",
    "    \n",
    "    \"conclusion\": \"UPDATE_AFTER_LOCAL_TESTING\"  # \"IMPROVED\", \"NO_CHANGE\", or \"DEGRADED\"\n",
    "}\n",
    "\n",
    "# Save comparison template to Google Drive\n",
    "import json\n",
    "comparison_path = f\"{cycle_output_dir}/performance_comparison_template.json\"\n",
    "with open(comparison_path, 'w') as f:\n",
    "    json.dump(performance_comparison, f, indent=2)\n",
    "\n",
    "print(f\"📊 Performance comparison template saved to:\")\n",
    "print(f\"   {comparison_path}\")\n",
    "print(\"\\n📋 Next steps:\")\n",
    "print(\"1. Download the fine-tuned model from Google Drive\")\n",
    "print(\"2. Run local evaluation\")\n",
    "print(\"3. Update the performance comparison template\")\n",
    "print(\"4. Decide whether to continue with this model or run another cycle\")"
   ]
  },
  {
   "cell_type": "markdown",
   "metadata": {},
   "source": [
    "## Step 8: Cycle Completion Checklist ✅\n",
    "\n",
    "Mark off each step as you complete it:\n",
    "\n",
    "**Cloud Training (Colab):**\n",
    "- [ ] Environment setup completed\n",
    "- [ ] Repository cloned and requirements installed\n",
    "- [ ] Model prepared in Google Drive\n",
    "- [ ] Training burst executed successfully\n",
    "- [ ] Training results analyzed\n",
    "\n",
    "**Local Testing:**\n",
    "- [ ] Fine-tuned model downloaded from Google Drive\n",
    "- [ ] Model copied to local `models/` directory\n",
    "- [ ] Standard evaluation executed locally\n",
    "- [ ] New performance report generated\n",
    "\n",
    "**Performance Analysis:**\n",
    "- [ ] Baseline vs. new performance compared\n",
    "- [ ] Performance deltas calculated\n",
    "- [ ] Conclusion reached (IMPROVED/NO_CHANGE/DEGRADED)\n",
    "\n",
    "**Decision:**\n",
    "- [ ] If IMPROVED: Update baseline and prepare for next cycle\n",
    "- [ ] If NO_CHANGE/DEGRADED: Analyze and adjust training parameters\n",
    "\n",
    "---\n",
    "\n",
    "## 🎯 Cycle Complete!\n",
    "\n",
    "You have successfully completed one full iteration of the **RLCard Superhuman Protocol**. \n",
    "\n",
    "The iterative process continues until you achieve superhuman performance levels. Each cycle should bring incremental improvements through careful fine-tuning and evaluation.\n"
   ]
  }
 ],
 "metadata": {
  "colab": {
   "provenance": [],
   "gpuType": "T4"
  },
  "kernelspec": {
   "display_name": "Python 3",
   "name": "python3"
  },
  "language_info": {
   "name": "python"
  },
  "accelerator": "GPU"
 },
 "nbformat": 4,
 "nbformat_minor": 0
}